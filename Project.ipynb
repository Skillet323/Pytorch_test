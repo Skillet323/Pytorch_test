{
 "cells": [
  {
   "cell_type": "code",
   "execution_count": 2,
   "metadata": {},
   "outputs": [
    {
     "data": {
      "text/html": [
       "<div>\n",
       "<style scoped>\n",
       "    .dataframe tbody tr th:only-of-type {\n",
       "        vertical-align: middle;\n",
       "    }\n",
       "\n",
       "    .dataframe tbody tr th {\n",
       "        vertical-align: top;\n",
       "    }\n",
       "\n",
       "    .dataframe thead th {\n",
       "        text-align: right;\n",
       "    }\n",
       "</style>\n",
       "<table border=\"1\" class=\"dataframe\">\n",
       "  <thead>\n",
       "    <tr style=\"text-align: right;\">\n",
       "      <th></th>\n",
       "      <th>age</th>\n",
       "      <th>sex</th>\n",
       "      <th>bmi</th>\n",
       "      <th>children</th>\n",
       "      <th>smoker</th>\n",
       "      <th>region</th>\n",
       "      <th>charges</th>\n",
       "    </tr>\n",
       "  </thead>\n",
       "  <tbody>\n",
       "    <tr>\n",
       "      <th>0</th>\n",
       "      <td>19</td>\n",
       "      <td>female</td>\n",
       "      <td>27.900</td>\n",
       "      <td>0</td>\n",
       "      <td>yes</td>\n",
       "      <td>southwest</td>\n",
       "      <td>16884.92400</td>\n",
       "    </tr>\n",
       "    <tr>\n",
       "      <th>1</th>\n",
       "      <td>18</td>\n",
       "      <td>male</td>\n",
       "      <td>33.770</td>\n",
       "      <td>1</td>\n",
       "      <td>no</td>\n",
       "      <td>southeast</td>\n",
       "      <td>1725.55230</td>\n",
       "    </tr>\n",
       "    <tr>\n",
       "      <th>2</th>\n",
       "      <td>28</td>\n",
       "      <td>male</td>\n",
       "      <td>33.000</td>\n",
       "      <td>3</td>\n",
       "      <td>no</td>\n",
       "      <td>southeast</td>\n",
       "      <td>4449.46200</td>\n",
       "    </tr>\n",
       "    <tr>\n",
       "      <th>3</th>\n",
       "      <td>33</td>\n",
       "      <td>male</td>\n",
       "      <td>22.705</td>\n",
       "      <td>0</td>\n",
       "      <td>no</td>\n",
       "      <td>northwest</td>\n",
       "      <td>21984.47061</td>\n",
       "    </tr>\n",
       "    <tr>\n",
       "      <th>4</th>\n",
       "      <td>32</td>\n",
       "      <td>male</td>\n",
       "      <td>28.880</td>\n",
       "      <td>0</td>\n",
       "      <td>no</td>\n",
       "      <td>northwest</td>\n",
       "      <td>3866.85520</td>\n",
       "    </tr>\n",
       "  </tbody>\n",
       "</table>\n",
       "</div>"
      ],
      "text/plain": [
       "   age     sex     bmi  children smoker     region      charges\n",
       "0   19  female  27.900         0    yes  southwest  16884.92400\n",
       "1   18    male  33.770         1     no  southeast   1725.55230\n",
       "2   28    male  33.000         3     no  southeast   4449.46200\n",
       "3   33    male  22.705         0     no  northwest  21984.47061\n",
       "4   32    male  28.880         0     no  northwest   3866.85520"
      ]
     },
     "execution_count": 2,
     "metadata": {},
     "output_type": "execute_result"
    }
   ],
   "source": [
    "import numpy as np\n",
    "import pandas as pd\n",
    "from sklearn import linear_model\n",
    "from sklearn import metrics\n",
    "df = pd.read_csv('insurance.csv')\n",
    "df.head()"
   ]
  },
  {
   "cell_type": "code",
   "execution_count": 3,
   "metadata": {},
   "outputs": [
    {
     "data": {
      "text/html": [
       "<div>\n",
       "<style scoped>\n",
       "    .dataframe tbody tr th:only-of-type {\n",
       "        vertical-align: middle;\n",
       "    }\n",
       "\n",
       "    .dataframe tbody tr th {\n",
       "        vertical-align: top;\n",
       "    }\n",
       "\n",
       "    .dataframe thead th {\n",
       "        text-align: right;\n",
       "    }\n",
       "</style>\n",
       "<table border=\"1\" class=\"dataframe\">\n",
       "  <thead>\n",
       "    <tr style=\"text-align: right;\">\n",
       "      <th></th>\n",
       "      <th>age</th>\n",
       "      <th>sex</th>\n",
       "      <th>bmi</th>\n",
       "      <th>children</th>\n",
       "      <th>smoker</th>\n",
       "      <th>charges</th>\n",
       "      <th>region_northeast</th>\n",
       "      <th>region_northwest</th>\n",
       "      <th>region_southeast</th>\n",
       "      <th>region_southwest</th>\n",
       "    </tr>\n",
       "  </thead>\n",
       "  <tbody>\n",
       "    <tr>\n",
       "      <th>0</th>\n",
       "      <td>19</td>\n",
       "      <td>0</td>\n",
       "      <td>27.900</td>\n",
       "      <td>0</td>\n",
       "      <td>1</td>\n",
       "      <td>16884.92400</td>\n",
       "      <td>False</td>\n",
       "      <td>False</td>\n",
       "      <td>False</td>\n",
       "      <td>True</td>\n",
       "    </tr>\n",
       "    <tr>\n",
       "      <th>1</th>\n",
       "      <td>18</td>\n",
       "      <td>1</td>\n",
       "      <td>33.770</td>\n",
       "      <td>1</td>\n",
       "      <td>0</td>\n",
       "      <td>1725.55230</td>\n",
       "      <td>False</td>\n",
       "      <td>False</td>\n",
       "      <td>True</td>\n",
       "      <td>False</td>\n",
       "    </tr>\n",
       "    <tr>\n",
       "      <th>2</th>\n",
       "      <td>28</td>\n",
       "      <td>1</td>\n",
       "      <td>33.000</td>\n",
       "      <td>3</td>\n",
       "      <td>0</td>\n",
       "      <td>4449.46200</td>\n",
       "      <td>False</td>\n",
       "      <td>False</td>\n",
       "      <td>True</td>\n",
       "      <td>False</td>\n",
       "    </tr>\n",
       "    <tr>\n",
       "      <th>3</th>\n",
       "      <td>33</td>\n",
       "      <td>1</td>\n",
       "      <td>22.705</td>\n",
       "      <td>0</td>\n",
       "      <td>0</td>\n",
       "      <td>21984.47061</td>\n",
       "      <td>False</td>\n",
       "      <td>True</td>\n",
       "      <td>False</td>\n",
       "      <td>False</td>\n",
       "    </tr>\n",
       "    <tr>\n",
       "      <th>4</th>\n",
       "      <td>32</td>\n",
       "      <td>1</td>\n",
       "      <td>28.880</td>\n",
       "      <td>0</td>\n",
       "      <td>0</td>\n",
       "      <td>3866.85520</td>\n",
       "      <td>False</td>\n",
       "      <td>True</td>\n",
       "      <td>False</td>\n",
       "      <td>False</td>\n",
       "    </tr>\n",
       "  </tbody>\n",
       "</table>\n",
       "</div>"
      ],
      "text/plain": [
       "   age  sex     bmi  children  smoker      charges  region_northeast  \\\n",
       "0   19    0  27.900         0       1  16884.92400             False   \n",
       "1   18    1  33.770         1       0   1725.55230             False   \n",
       "2   28    1  33.000         3       0   4449.46200             False   \n",
       "3   33    1  22.705         0       0  21984.47061             False   \n",
       "4   32    1  28.880         0       0   3866.85520             False   \n",
       "\n",
       "   region_northwest  region_southeast  region_southwest  \n",
       "0             False             False              True  \n",
       "1             False              True             False  \n",
       "2             False              True             False  \n",
       "3              True             False             False  \n",
       "4              True             False             False  "
      ]
     },
     "execution_count": 3,
     "metadata": {},
     "output_type": "execute_result"
    }
   ],
   "source": [
    "df['sex'] = df['sex'].apply(lambda x: 1*(x=='male'))\n",
    "df['smoker'] = df['smoker'].apply(lambda x: 1*(x=='yes'))\n",
    "df = pd.get_dummies(df)\n",
    "df.head()"
   ]
  },
  {
   "cell_type": "code",
   "execution_count": 4,
   "metadata": {},
   "outputs": [
    {
     "name": "stdout",
     "output_type": "stream",
     "text": [
      "Train: (1070, 9)\n",
      "Test: (268, 9)\n",
      "(1070, 54)\n"
     ]
    }
   ],
   "source": [
    "from sklearn import preprocessing\n",
    "from sklearn.model_selection import train_test_split\n",
    "from sklearn import *\n",
    "def print_metrics(y_train, y_train_predict, y_test, y_test_predict):\n",
    "    print('Train R^2: {:.3f}'.format(metrics.r2_score(y_train, y_train_predict)))\n",
    "    print('Train MAE: {:.0f}'.format(metrics.mean_absolute_error(y_train, y_train_predict)))\n",
    "    print('Train MAPE: {:.0f}'.format(metrics.mean_absolute_percentage_error(y_train, y_train_predict)*100))\n",
    "    print('\\n')\n",
    "    print('Test R^2: {:.3f}'.format(metrics.r2_score(y_test, y_test_predict)))\n",
    "    print('Test MAE: {:.0f}'.format(metrics.mean_absolute_error(y_test, y_test_predict)))\n",
    "    print('Test MAPE: {:.0f}'.format(metrics.mean_absolute_percentage_error(y_test, y_test_predict)*100))\n",
    "\n",
    "features = df.drop('charges', axis=1).columns\n",
    "X, y = df[features], df['charges']\n",
    "X_train, X_test, y_train, y_test = train_test_split(X, y, random_state=42, test_size=0.2)\n",
    "print('Train:', X_train.shape)\n",
    "print('Test:', X_test.shape)\n",
    "\n",
    "scaler = preprocessing.MinMaxScaler()\n",
    "scaler.fit(X_train)\n",
    "X_train_scaled = scaler.transform(X_train)\n",
    "X_test_scaled = scaler.transform(X_test)\n",
    "\n",
    "poly = preprocessing.PolynomialFeatures(degree=2, include_bias=False)\n",
    "poly.fit(X_train_scaled)\n",
    "X_train_scaled_poly = poly.transform(X_train_scaled)\n",
    "X_test_scaled_poly = poly.transform(X_test_scaled)\n",
    "print(X_train_scaled_poly.shape)"
   ]
  },
  {
   "cell_type": "code",
   "execution_count": 5,
   "metadata": {},
   "outputs": [
    {
     "name": "stdout",
     "output_type": "stream",
     "text": [
      "Train R^2: 0.841\n",
      "Train MAE: 2892\n",
      "Train MAPE: 29\n",
      "\n",
      "\n",
      "Test R^2: 0.865\n",
      "Test MAE: 2750\n",
      "Test MAPE: 30\n"
     ]
    }
   ],
   "source": [
    "#Задание 1\n",
    "lr_model = linear_model.LinearRegression()\n",
    "lr_model.fit(X_train_scaled_poly,y_train)\n",
    "y_train_predict = lr_model.predict(X_train_scaled_poly)\n",
    "y_test_predict = lr_model.predict(X_test_scaled_poly)\n",
    "\n",
    "print_metrics(y_train, y_train_predict, y_test, y_test_predict)\n",
    "#Нет переобучения, модель работает хорошо"
   ]
  },
  {
   "cell_type": "code",
   "execution_count": 6,
   "metadata": {},
   "outputs": [
    {
     "name": "stdout",
     "output_type": "stream",
     "text": [
      "[-9.91313536e+15  1.39768961e+16  4.41625289e+16  1.47526021e+16\n",
      " -5.22184762e+16  7.52469545e+16 -5.31445010e+16 -7.14539120e+16\n",
      "  1.63452895e+17  8.20800000e+03  9.92000000e+02  1.03200000e+03\n",
      " -1.77600000e+03  1.52000000e+02  9.91313536e+15  9.91313536e+15\n",
      "  9.91313536e+15  9.91313536e+15  4.80247972e+16  7.98000000e+02\n",
      " -1.46400000e+03  3.44000000e+02 -6.20016933e+16 -6.20016933e+16\n",
      " -6.20016933e+16 -6.20016933e+16 -9.25600000e+03  1.43200000e+03\n",
      "  5.46360000e+04 -4.41625289e+16 -4.41625289e+16 -4.41625289e+16\n",
      " -4.41625289e+16 -1.87200000e+03 -2.19600000e+03 -1.47526021e+16\n",
      " -1.47526021e+16 -1.47526021e+16 -1.47526021e+16 -4.86554529e+16\n",
      "  1.00873929e+17  1.00873929e+17  1.00873929e+17  1.00873929e+17\n",
      " -1.56740163e+17  0.00000000e+00  0.00000000e+00  0.00000000e+00\n",
      " -2.83487077e+16  0.00000000e+00  0.00000000e+00 -1.00392967e+16\n",
      "  0.00000000e+00 -2.44946103e+17]\n",
      "Свободный член 8.149320868507432e+16\n"
     ]
    }
   ],
   "source": [
    "#Задание 2\n",
    "print(lr_model.coef_)\n",
    "print(\"Свободный член\",lr_model.intercept_)\n",
    "#Некоторые коэффициенты занулены и не вносят вклад в предсказание, степени коэффициентов так же сильно разнятся откуда следует что не все вносят значимый вклад,\n",
    "# только те, у которых большая степень"
   ]
  },
  {
   "cell_type": "code",
   "execution_count": 7,
   "metadata": {},
   "outputs": [
    {
     "name": "stdout",
     "output_type": "stream",
     "text": [
      "Train R^2: 0.841\n",
      "Train MAE: 2892\n",
      "Train MAPE: 29\n",
      "\n",
      "\n",
      "Test R^2: 0.865\n",
      "Test MAE: 2750\n",
      "Test MAPE: 30\n"
     ]
    }
   ],
   "source": [
    "#Задание 3\n",
    "\n",
    "lasso_lr_poly = linear_model.Lasso(max_iter=2000)\n",
    "\n",
    "lasso_lr_poly.fit(X_train_scaled_poly, y_train)\n",
    "\n",
    "y_train_predict_poly = lasso_lr_poly.predict(X_train_scaled_poly)\n",
    "\n",
    "y_test_predict_poly = lasso_lr_poly.predict(X_test_scaled_poly)\n",
    "\n",
    "print_metrics(y_train, y_train_predict, y_test, y_test_predict)\n",
    "#Метод Lasso никак не поменял значение метрик"
   ]
  },
  {
   "cell_type": "code",
   "execution_count": 8,
   "metadata": {},
   "outputs": [
    {
     "name": "stdout",
     "output_type": "stream",
     "text": [
      "Train R^2: 0.841\n",
      "Train MAE: 2892\n",
      "Train MAPE: 29\n",
      "\n",
      "\n",
      "Test R^2: 0.865\n",
      "Test MAE: 2750\n",
      "Test MAPE: 30\n",
      "[ 3369.38386245  -457.59604062  3655.82413935  3198.89989857\n",
      "  2682.62197132   199.05715111  -228.717235     191.94660928\n",
      "  -162.28652539  7548.51142058   581.66782381   935.50427947\n",
      "  -681.52086519   663.45387027  -450.92174702   438.63623056\n",
      "  1406.72601433  1974.94336458  -457.59604062   947.62267378\n",
      "  -902.74408745   739.02044241  -822.63208356   302.52583365\n",
      "   351.60830856  -289.09809925 -4274.11806366  2734.55631801\n",
      " 44541.21377369  3667.33801864  1719.64618126 -1249.79159858\n",
      "  -481.36846198 -1314.96604775 -2172.72264458  2171.5603185\n",
      "  1997.18187938   112.64828731 -1082.49058663  2682.62197132\n",
      "    94.23317955  -208.05994802   535.7168228   2260.73191705\n",
      "   199.05715111     0.             0.             0.\n",
      "  -228.717235       0.             0.           191.94660928\n",
      "     0.          -162.28652539]\n",
      "2450.9757632248748\n"
     ]
    }
   ],
   "source": [
    "#Задание 4\n",
    "\n",
    "ridge_lr_poly = linear_model.Ridge(max_iter=2000)\n",
    "\n",
    "ridge_lr_poly.fit(X_train_scaled_poly, y_train)\n",
    "\n",
    "y_train_predict_poly = ridge_lr_poly.predict(X_train_scaled_poly)\n",
    "\n",
    "y_test_predict_poly = ridge_lr_poly.predict(X_test_scaled_poly)\n",
    "\n",
    "print_metrics(y_train, y_train_predict, y_test, y_test_predict)\n",
    "print(ridge_lr_poly.coef_)\n",
    "print(ridge_lr_poly.intercept_)\n",
    "#Коэффициенты как и свободный член другие, но метрики те же"
   ]
  },
  {
   "cell_type": "code",
   "execution_count": 9,
   "metadata": {},
   "outputs": [
    {
     "name": "stderr",
     "output_type": "stream",
     "text": [
      "/home/skillet/anaconda3/lib/python3.12/site-packages/sklearn/linear_model/_coordinate_descent.py:697: ConvergenceWarning: Objective did not converge. You might want to increase the number of iterations, check the scale of the features or consider increasing regularisation. Duality gap: 1.292e+09, tolerance: 1.544e+07\n",
      "  model = cd_fast.enet_coordinate_descent(\n"
     ]
    },
    {
     "data": {
      "text/plain": [
       "r2          0.866834\n",
       "alpha    1000.000000\n",
       "dtype: float64"
      ]
     },
     "execution_count": 9,
     "metadata": {},
     "output_type": "execute_result"
    }
   ],
   "source": [
    "#Задание 5\n",
    "names = ['r2','alpha']\n",
    "i =0\n",
    "alpha_list = np.linspace(1, 1000)\n",
    "r2 = pd.DataFrame(columns=names)\n",
    "for a in alpha_list:\n",
    "    lasso_lr_poly = linear_model.Lasso(alpha=a)\n",
    "    lasso_lr_poly.fit(X_train_scaled_poly, y_train)\n",
    "    y_test_predict_poly = lasso_lr_poly.predict(X_test_scaled_poly)\n",
    "    r2.loc[i] = [metrics.r2_score(y_test, y_test_predict_poly), a]\n",
    "    i+=1\n",
    "r2.max()\n",
    "    "
   ]
  },
  {
   "cell_type": "code",
   "execution_count": 10,
   "metadata": {},
   "outputs": [
    {
     "data": {
      "text/html": [
       "<div>\n",
       "<style scoped>\n",
       "    .dataframe tbody tr th:only-of-type {\n",
       "        vertical-align: middle;\n",
       "    }\n",
       "\n",
       "    .dataframe tbody tr th {\n",
       "        vertical-align: top;\n",
       "    }\n",
       "\n",
       "    .dataframe thead th {\n",
       "        text-align: right;\n",
       "    }\n",
       "</style>\n",
       "<table border=\"1\" class=\"dataframe\">\n",
       "  <thead>\n",
       "    <tr style=\"text-align: right;\">\n",
       "      <th></th>\n",
       "      <th>r2</th>\n",
       "      <th>alpha</th>\n",
       "    </tr>\n",
       "  </thead>\n",
       "  <tbody>\n",
       "    <tr>\n",
       "      <th>0</th>\n",
       "      <td>0.863338</td>\n",
       "      <td>1.0</td>\n",
       "    </tr>\n",
       "    <tr>\n",
       "      <th>1</th>\n",
       "      <td>0.863338</td>\n",
       "      <td>2.0</td>\n",
       "    </tr>\n",
       "    <tr>\n",
       "      <th>2</th>\n",
       "      <td>0.863338</td>\n",
       "      <td>3.0</td>\n",
       "    </tr>\n",
       "    <tr>\n",
       "      <th>3</th>\n",
       "      <td>0.863338</td>\n",
       "      <td>4.0</td>\n",
       "    </tr>\n",
       "    <tr>\n",
       "      <th>4</th>\n",
       "      <td>0.863338</td>\n",
       "      <td>5.0</td>\n",
       "    </tr>\n",
       "  </tbody>\n",
       "</table>\n",
       "</div>"
      ],
      "text/plain": [
       "         r2  alpha\n",
       "0  0.863338    1.0\n",
       "1  0.863338    2.0\n",
       "2  0.863338    3.0\n",
       "3  0.863338    4.0\n",
       "4  0.863338    5.0"
      ]
     },
     "execution_count": 10,
     "metadata": {},
     "output_type": "execute_result"
    }
   ],
   "source": [
    "names = ['r2','alpha']\n",
    "i =0\n",
    "alpha_list = np.linspace(1, 1000,1000)\n",
    "\n",
    "r2 = pd.DataFrame(columns=names)\n",
    "for a in alpha_list:\n",
    "    ridge_lr_poly = linear_model.Ridge(max_iter=2000)\n",
    "    ridge_lr_poly.fit(X_train_scaled_poly, y_train)\n",
    "    y_test_predict_poly = ridge_lr_poly.predict(X_test_scaled_poly)\n",
    "    r2.loc[i] = [metrics.r2_score(y_test, y_test_predict_poly), a]\n",
    "    i+=1\n",
    "r2.head()"
   ]
  }
 ],
 "metadata": {
  "kernelspec": {
   "display_name": "base",
   "language": "python",
   "name": "python3"
  },
  "language_info": {
   "codemirror_mode": {
    "name": "ipython",
    "version": 3
   },
   "file_extension": ".py",
   "mimetype": "text/x-python",
   "name": "python",
   "nbconvert_exporter": "python",
   "pygments_lexer": "ipython3",
   "version": "3.12.7"
  }
 },
 "nbformat": 4,
 "nbformat_minor": 2
}
